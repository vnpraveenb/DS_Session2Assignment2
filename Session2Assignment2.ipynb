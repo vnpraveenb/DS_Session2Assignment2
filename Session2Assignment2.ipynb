{
 "cells": [
  {
   "cell_type": "code",
   "execution_count": 1,
   "metadata": {},
   "outputs": [
    {
     "name": "stdout",
     "output_type": "stream",
     "text": [
      "Input the number of stars you want in the row with maximum number of stars: 5\n",
      "\n",
      "Output:\n",
      " * \n",
      " * * \n",
      " * * * \n",
      " * * * * \n",
      " * * * * * \n",
      " * * * * \n",
      " * * * \n",
      " * * \n",
      " * \n"
     ]
    }
   ],
   "source": [
    "# Create the below pattern using nested for loop in Python.\n",
    "# *\n",
    "# * *\n",
    "# * * *\n",
    "# * * * *\n",
    "# * * * * *\n",
    "# * * * *\n",
    "# * * *\n",
    "# * *\n",
    "# *\n",
    "\n",
    "maxstarlength = int(input(\"Input the number of stars you want in the row with maximum number of stars: \"))\n",
    "print()\n",
    "\n",
    "print(\"Output:\")\n",
    "for i in range(1,maxstarlength + 1): # To print increasing  number of stars till the maximum number of stars per row are reached\n",
    "    starstring =\" \"\n",
    "    for j in range(i): # To print the number of stars per row\n",
    "        if(i<=maxstarlength): # To print the stars for each row until maximum number of stars per row are reached\n",
    "            starstring = starstring + \"* \"\n",
    "    print(starstring)\n",
    "\n",
    "for k in range(maxstarlength-1, 0, -1): # To print increasing  number of stars till the maximum number of stars per row are reached\n",
    "    starstring =\" \"\n",
    "    for l in range(k):  # To print the number of stars per row\n",
    "        if(k<=maxstarlength): # To print the stars for each row until maximum number of stars per row are reached\n",
    "            starstring = starstring + \"* \"\n",
    "    print(starstring)\n",
    "   "
   ]
  },
  {
   "cell_type": "code",
   "execution_count": null,
   "metadata": {},
   "outputs": [],
   "source": []
  }
 ],
 "metadata": {
  "kernelspec": {
   "display_name": "Python 3",
   "language": "python",
   "name": "python3"
  },
  "language_info": {
   "codemirror_mode": {
    "name": "ipython",
    "version": 3
   },
   "file_extension": ".py",
   "mimetype": "text/x-python",
   "name": "python",
   "nbconvert_exporter": "python",
   "pygments_lexer": "ipython3",
   "version": "3.6.4"
  }
 },
 "nbformat": 4,
 "nbformat_minor": 2
}
